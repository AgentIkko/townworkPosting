import pandas as pd
import json
from pandas.io.json import json_normalize

tw = '/home/tang/townwork/riku0707_3.json'
dftw = pd.read_json(tw,orient="records",lines=True)#.drop_duplicates(subset='company')
dftw.to_csv("./townwork/riku0707_4.csv")
